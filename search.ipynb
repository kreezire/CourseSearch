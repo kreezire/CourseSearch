{
 "cells": [
  {
   "cell_type": "code",
   "execution_count": 1,
   "metadata": {
    "collapsed": true
   },
   "outputs": [],
   "source": [
    "import nltk\n",
    "import graphlab\n",
    "import os"
   ]
  },
  {
   "cell_type": "code",
   "execution_count": null,
   "metadata": {
    "collapsed": true
   },
   "outputs": [],
   "source": []
  },
  {
   "cell_type": "code",
   "execution_count": 2,
   "metadata": {
    "collapsed": true
   },
   "outputs": [],
   "source": [
    "# readFiles reads files from the specified path.\n",
    "# param: path\n",
    "# return (file list, file test) as SFrame\n",
    "def readFiles(path):\n",
    "    filesDataSFrame = graphlab.SFrame()\n",
    "    try:\n",
    "        files = [path+\"/\"+f for f in os.listdir(path) ]\n",
    "        fileText = []\n",
    "        for f in files:\n",
    "            fileText.append(open(f).read())\n",
    "        filesDataSFrame[\"File\"]=files\n",
    "        filesDataSFrame[\"Text\"]=fileText\n",
    "    except:\n",
    "        return filesDataSFrame\n",
    "    return filesDataSFrame"
   ]
  },
  {
   "cell_type": "code",
   "execution_count": 3,
   "metadata": {
    "collapsed": true
   },
   "outputs": [],
   "source": [
    "# computerTfIdf takes SFrame and field containing text in SFrame, and computer TF-IDF\n",
    "# params: SFrame, field Label\n",
    "# returns word count and tdidf added in sframe\n",
    "def computerTfIdf(filesDataSFrame, textField):\n",
    "    filesDataSFrame['word_count'] = graphlab.text_analytics.count_words(filesDataSFrame[textField])\n",
    "    filesDataSFrame['tfidf'] = graphlab.text_analytics.tf_idf(filesDataSFrame['word_count']).dict_trim_by_keys(graphlab.text_analytics.stopwords(), True)\n",
    "    return filesDataSFrame"
   ]
  },
  {
   "cell_type": "code",
   "execution_count": 5,
   "metadata": {
    "collapsed": false
   },
   "outputs": [
    {
     "name": "stdout",
     "output_type": "stream",
     "text": [
      "This non-commercial license of GraphLab Create for academic use is assigned to vipul_agg@yahoo.com and will expire on July 14, 2018.\n"
     ]
    },
    {
     "name": "stderr",
     "output_type": "stream",
     "text": [
      "[INFO] graphlab.cython.cy_server: GraphLab Create v2.1 started. Logging: C:\\Users\\vipaggar\\AppData\\Local\\Temp\\graphlab_server_1513615186.log.0\n"
     ]
    }
   ],
   "source": [
    "### Main task\n",
    "transcripts = \"transcripts\"\n",
    "filesDataSFrame=readFiles(\"transcripts\")\n",
    "if(not len(filesDataSFrame)):\n",
    "    print \"Error in reading transcripts\"\n",
    "filesDataSFrame = computerTfIdf(filesDataSFrame, \"Text\")"
   ]
  },
  {
   "cell_type": "code",
   "execution_count": 6,
   "metadata": {
    "collapsed": false
   },
   "outputs": [
    {
     "data": {
      "text/html": [
       "<div style=\"max-height:1000px;max-width:1500px;overflow:auto;\"><table frame=\"box\" rules=\"cols\">\n",
       "    <tr>\n",
       "        <th style=\"padding-left: 1em; padding-right: 1em; text-align: center\">File</th>\n",
       "        <th style=\"padding-left: 1em; padding-right: 1em; text-align: center\">Text</th>\n",
       "        <th style=\"padding-left: 1em; padding-right: 1em; text-align: center\">word_count</th>\n",
       "        <th style=\"padding-left: 1em; padding-right: 1em; text-align: center\">tfidf</th>\n",
       "    </tr>\n",
       "    <tr>\n",
       "        <td style=\"padding-left: 1em; padding-right: 1em; text-align: center; vertical-align: top\">transcripts/subtitle<br>(1).txt ...</td>\n",
       "        <td style=\"padding-left: 1em; padding-right: 1em; text-align: center; vertical-align: top\">So in this module<br>we're\\ngonna talk about ...</td>\n",
       "        <td style=\"padding-left: 1em; padding-right: 1em; text-align: center; vertical-align: top\">{'spam.': 2L, 'just': 1L,<br>'text': 1L, ...</td>\n",
       "        <td style=\"padding-left: 1em; padding-right: 1em; text-align: center; vertical-align: top\">{'size':<br>2.1400661634962708, ...</td>\n",
       "    </tr>\n",
       "    <tr>\n",
       "        <td style=\"padding-left: 1em; padding-right: 1em; text-align: center; vertical-align: top\">transcripts/subtitle<br>(10).txt ...</td>\n",
       "        <td style=\"padding-left: 1em; padding-right: 1em; text-align: center; vertical-align: top\">[MUSIC] So the normalized<br>count vectors that\\nwe ...</td>\n",
       "        <td style=\"padding-left: 1em; padding-right: 1em; text-align: center; vertical-align: top\">{'all': 2L, 'words': 12L,<br>'just': 6L, 'similari ...</td>\n",
       "        <td style=\"padding-left: 1em; padding-right: 1em; text-align: center; vertical-align: top\">{'similarity':<br>1.2237754316221157, ...</td>\n",
       "    </tr>\n",
       "    <tr>\n",
       "        <td style=\"padding-left: 1em; padding-right: 1em; text-align: center; vertical-align: top\">transcripts/subtitle<br>(11).txt ...</td>\n",
       "        <td style=\"padding-left: 1em; padding-right: 1em; text-align: center; vertical-align: top\">[MUSIC] Okay, so in this<br>module we're gonna\\ntalk ...</td>\n",
       "        <td style=\"padding-left: 1em; padding-right: 1em; text-align: center; vertical-align: top\">{'area,': 2L, 'spurred':<br>1L, 'just': 1L, 'over': ...</td>\n",
       "        <td style=\"padding-left: 1em; padding-right: 1em; text-align: center; vertical-align: top\">{'subset':<br>2.1400661634962708, ...</td>\n",
       "    </tr>\n",
       "    <tr>\n",
       "        <td style=\"padding-left: 1em; padding-right: 1em; text-align: center; vertical-align: top\">transcripts/subtitle<br>(12).txt ...</td>\n",
       "        <td style=\"padding-left: 1em; padding-right: 1em; text-align: center; vertical-align: top\">[MUSIC] Let's start by<br>discussing some areas ...</td>\n",
       "        <td style=\"padding-left: 1em; padding-right: 1em; text-align: center; vertical-align: top\">{'all': 2L, 'similarity':<br>1L, 'baby': 1L, 'go': ...</td>\n",
       "        <td style=\"padding-left: 1em; padding-right: 1em; text-align: center; vertical-align: top\">{'incorporate':<br>2.833213344056216, 'one- ...</td>\n",
       "    </tr>\n",
       "    <tr>\n",
       "        <td style=\"padding-left: 1em; padding-right: 1em; text-align: center; vertical-align: top\">transcripts/subtitle<br>(13).txt ...</td>\n",
       "        <td style=\"padding-left: 1em; padding-right: 1em; text-align: center; vertical-align: top\">[MUSIC] We talked about a<br>lot of ...</td>\n",
       "        <td style=\"padding-left: 1em; padding-right: 1em; text-align: center; vertical-align: top\">{'no,': 1L, 'limited':<br>1L, 'learning': 1L, ...</td>\n",
       "        <td style=\"padding-left: 1em; padding-right: 1em; text-align: center; vertical-align: top\">{'no,':<br>2.1400661634962708, ...</td>\n",
       "    </tr>\n",
       "    <tr>\n",
       "        <td style=\"padding-left: 1em; padding-right: 1em; text-align: center; vertical-align: top\">transcripts/subtitle<br>(14).txt ...</td>\n",
       "        <td style=\"padding-left: 1em; padding-right: 1em; text-align: center; vertical-align: top\">[MUSIC] Today, we're<br>gonna talk about one of ...</td>\n",
       "        <td style=\"padding-left: 1em; padding-right: 1em; text-align: center; vertical-align: top\">{'just': 1L, 'be': 1L,<br>'image': 1L, '[music]': ...</td>\n",
       "        <td style=\"padding-left: 1em; padding-right: 1em; text-align: center; vertical-align: top\">{'image':<br>1.4469189829363254, ...</td>\n",
       "    </tr>\n",
       "    <tr>\n",
       "        <td style=\"padding-left: 1em; padding-right: 1em; text-align: center; vertical-align: top\">transcripts/subtitle<br>(15).txt ...</td>\n",
       "        <td style=\"padding-left: 1em; padding-right: 1em; text-align: center; vertical-align: top\">[MUSIC] There are many<br>ways to shop ...</td>\n",
       "        <td style=\"padding-left: 1em; padding-right: 1em; text-align: center; vertical-align: top\">{'shop': 2L, \"she'll\":<br>1L, 'particularly': 1L, ...</td>\n",
       "        <td style=\"padding-left: 1em; padding-right: 1em; text-align: center; vertical-align: top\">{'shop':<br>5.666426688112432, ...</td>\n",
       "    </tr>\n",
       "    <tr>\n",
       "        <td style=\"padding-left: 1em; padding-right: 1em; text-align: center; vertical-align: top\">transcripts/subtitle<br>(16).txt ...</td>\n",
       "        <td style=\"padding-left: 1em; padding-right: 1em; text-align: center; vertical-align: top\">[MUSIC] Great.\\nWe talked<br>about an application of ...</td>\n",
       "        <td style=\"padding-left: 1em; padding-right: 1em; text-align: center; vertical-align: top\">{'represent': 10L, 'all':<br>4L, 'particular': 1L, ...</td>\n",
       "        <td style=\"padding-left: 1em; padding-right: 1em; text-align: center; vertical-align: top\">{'represent':<br>17.346010553881065, ...</td>\n",
       "    </tr>\n",
       "    <tr>\n",
       "        <td style=\"padding-left: 1em; padding-right: 1em; text-align: center; vertical-align: top\">transcripts/subtitle<br>(2).txt ...</td>\n",
       "        <td style=\"padding-left: 1em; padding-right: 1em; text-align: center; vertical-align: top\">[MUSIC] Okay. Well<br>instead of the ...</td>\n",
       "        <td style=\"padding-left: 1em; padding-right: 1em; text-align: center; vertical-align: top\">{'slope': 2L,<br>'distances': 1L, 'all': ...</td>\n",
       "        <td style=\"padding-left: 1em; padding-right: 1em; text-align: center; vertical-align: top\">{'slope':<br>5.666426688112432, ...</td>\n",
       "    </tr>\n",
       "    <tr>\n",
       "        <td style=\"padding-left: 1em; padding-right: 1em; text-align: center; vertical-align: top\">transcripts/subtitle<br>(3).txt ...</td>\n",
       "        <td style=\"padding-left: 1em; padding-right: 1em; text-align: center; vertical-align: top\">[MUSIC] Today we're gonna<br>talk\\nabout ...</td>\n",
       "        <td style=\"padding-left: 1em; padding-right: 1em; text-align: center; vertical-align: top\">{'and': 3L, 'reviews.':<br>1L, 'useful': 1L, ...</td>\n",
       "        <td style=\"padding-left: 1em; padding-right: 1em; text-align: center; vertical-align: top\">{'reviews.':<br>2.833213344056216, ...</td>\n",
       "    </tr>\n",
       "</table>\n",
       "[10 rows x 4 columns]<br/>\n",
       "</div>"
      ],
      "text/plain": [
       "Columns:\n",
       "\tFile\tstr\n",
       "\tText\tstr\n",
       "\tword_count\tdict\n",
       "\ttfidf\tdict\n",
       "\n",
       "Rows: 10\n",
       "\n",
       "Data:\n",
       "+-------------------------------+-------------------------------+\n",
       "|              File             |              Text             |\n",
       "+-------------------------------+-------------------------------+\n",
       "|  transcripts/subtitle (1).txt | So in this module we're\\ng... |\n",
       "| transcripts/subtitle (10).txt | [MUSIC] So the normalized ... |\n",
       "| transcripts/subtitle (11).txt | [MUSIC] Okay, so in this m... |\n",
       "| transcripts/subtitle (12).txt | [MUSIC] Let's start by dis... |\n",
       "| transcripts/subtitle (13).txt | [MUSIC] We talked about a ... |\n",
       "| transcripts/subtitle (14).txt | [MUSIC] Today, we're gonna... |\n",
       "| transcripts/subtitle (15).txt | [MUSIC] There are many way... |\n",
       "| transcripts/subtitle (16).txt | [MUSIC] Great.\\nWe talked ... |\n",
       "|  transcripts/subtitle (2).txt | [MUSIC] Okay. Well instead... |\n",
       "|  transcripts/subtitle (3).txt | [MUSIC] Today we're gonna ... |\n",
       "+-------------------------------+-------------------------------+\n",
       "+-------------------------------+-------------------------------+\n",
       "|           word_count          |             tfidf             |\n",
       "+-------------------------------+-------------------------------+\n",
       "| {'spam.': 2L, 'just': 1L, ... | {'size': 2.140066163496270... |\n",
       "| {'all': 2L, 'words': 12L, ... | {'similarity': 1.223775431... |\n",
       "| {'area,': 2L, 'spurred': 1... | {'subset': 2.1400661634962... |\n",
       "| {'all': 2L, 'similarity': ... | {'incorporate': 2.83321334... |\n",
       "| {'no,': 1L, 'limited': 1L,... | {'no,': 2.1400661634962708... |\n",
       "| {'just': 1L, 'be': 1L, 'im... | {'image': 1.44691898293632... |\n",
       "| {'shop': 2L, \"she'll\": 1L,... | {'shop': 5.666426688112432... |\n",
       "| {'represent': 10L, 'all': ... | {'represent': 17.346010553... |\n",
       "| {'slope': 2L, 'distances':... | {'slope': 5.66642668811243... |\n",
       "| {'and': 3L, 'reviews.': 1L... | {'reviews.': 2.83321334405... |\n",
       "+-------------------------------+-------------------------------+\n",
       "[10 rows x 4 columns]"
      ]
     },
     "execution_count": 6,
     "metadata": {},
     "output_type": "execute_result"
    }
   ],
   "source": [
    "filesDataSFrame.head()"
   ]
  },
  {
   "cell_type": "code",
   "execution_count": 13,
   "metadata": {
    "collapsed": false
   },
   "outputs": [
    {
     "data": {
      "text/html": [
       "<div style=\"max-height:1000px;max-width:1500px;overflow:auto;\"><table frame=\"box\" rules=\"cols\">\n",
       "    <tr>\n",
       "        <th style=\"padding-left: 1em; padding-right: 1em; text-align: center\">doc_id</th>\n",
       "        <th style=\"padding-left: 1em; padding-right: 1em; text-align: center\">bm25</th>\n",
       "    </tr>\n",
       "    <tr>\n",
       "        <td style=\"padding-left: 1em; padding-right: 1em; text-align: center; vertical-align: top\">0</td>\n",
       "        <td style=\"padding-left: 1em; padding-right: 1em; text-align: center; vertical-align: top\">3.80560967909</td>\n",
       "    </tr>\n",
       "    <tr>\n",
       "        <td style=\"padding-left: 1em; padding-right: 1em; text-align: center; vertical-align: top\">7</td>\n",
       "        <td style=\"padding-left: 1em; padding-right: 1em; text-align: center; vertical-align: top\">2.4035725915</td>\n",
       "    </tr>\n",
       "    <tr>\n",
       "        <td style=\"padding-left: 1em; padding-right: 1em; text-align: center; vertical-align: top\">8</td>\n",
       "        <td style=\"padding-left: 1em; padding-right: 1em; text-align: center; vertical-align: top\">4.24962469541</td>\n",
       "    </tr>\n",
       "    <tr>\n",
       "        <td style=\"padding-left: 1em; padding-right: 1em; text-align: center; vertical-align: top\">12</td>\n",
       "        <td style=\"padding-left: 1em; padding-right: 1em; text-align: center; vertical-align: top\">2.70970173068</td>\n",
       "    </tr>\n",
       "</table>\n",
       "[? rows x 2 columns]<br/>Note: Only the head of the SFrame is printed. This SFrame is lazily evaluated.<br/>You can use sf.materialize() to force materialization.\n",
       "</div>"
      ],
      "text/plain": [
       "Columns:\n",
       "\tdoc_id\tint\n",
       "\tbm25\tfloat\n",
       "\n",
       "Rows: Unknown\n",
       "\n",
       "Data:\n",
       "+--------+---------------+\n",
       "| doc_id |      bm25     |\n",
       "+--------+---------------+\n",
       "|   0    | 3.80560967909 |\n",
       "|   7    |  2.4035725915 |\n",
       "|   8    | 4.24962469541 |\n",
       "|   12   | 2.70970173068 |\n",
       "+--------+---------------+\n",
       "[? rows x 2 columns]\n",
       "Note: Only the head of the SFrame is printed. This SFrame is lazily evaluated.\n",
       "You can use sf.materialize() to force materialization."
      ]
     },
     "execution_count": 13,
     "metadata": {},
     "output_type": "execute_result"
    }
   ],
   "source": [
    "graphlab.text_analytics.bm25(filesDataSFrame[\"word_count\"], ['linear', 'regression'])"
   ]
  },
  {
   "cell_type": "code",
   "execution_count": 14,
   "metadata": {
    "collapsed": false
   },
   "outputs": [
    {
     "name": "stdout",
     "output_type": "stream",
     "text": [
      "So in this module we're\n",
      "gonna talk about regression. Which is one of the most widely\n",
      "used statistical tools outs there. And the idea is really simple. So we have some set of features and\n",
      "we wanna model how our observations that are associated with these features change\n",
      "as we change the values of the features. And we're gonna ground our\n",
      "conversation in a case study of trying to predict house values. So here we can imagine that a house has\n",
      "some set of features like what's the size of the house, how many bedrooms does\n",
      "it have, number of bathrooms and the list goes on and on. And the observation that we have is\n",
      "what's the value of the house or the house sales price. But the tools of regression go much beyond just thinking\n",
      "about doing prediction tasks. So as we're gonna see in\n",
      "the classification course, we can use regression tools for\n",
      "classification. So for example,\n",
      "let's say we have an email and we wanna classify whether it's spam or\n",
      "not spam. Well, that email we can think of having\n",
      "features about the text of the e-mail, that's indicative of whether\n",
      "that e-mail is spam or not spam. And in addition we can think\n",
      "about using regression for analyze the importance of\n",
      "the features themselves. And we're gonna talk more about\n",
      "that in the regression course. [MUSIC]\n"
     ]
    }
   ],
   "source": [
    "print filesDataSFrame[0][\"Text\"]"
   ]
  },
  {
   "cell_type": "code",
   "execution_count": null,
   "metadata": {
    "collapsed": true
   },
   "outputs": [],
   "source": []
  }
 ],
 "metadata": {
  "kernelspec": {
   "display_name": "Python 2",
   "language": "python",
   "name": "python2"
  },
  "language_info": {
   "codemirror_mode": {
    "name": "ipython",
    "version": 2
   },
   "file_extension": ".py",
   "mimetype": "text/x-python",
   "name": "python",
   "nbconvert_exporter": "python",
   "pygments_lexer": "ipython2",
   "version": "2.7.11"
  }
 },
 "nbformat": 4,
 "nbformat_minor": 0
}
